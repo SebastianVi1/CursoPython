{
 "cells": [
  {
   "cell_type": "code",
   "execution_count": null,
   "id": "490e171d-f42d-4e6e-8772-95ddb69bc01e",
   "metadata": {},
   "outputs": [],
   "source": []
  }
 ],
 "metadata": {
  "kernelspec": {
   "display_name": "",
   "name": ""
  },
  "language_info": {
   "name": ""
  }
 },
 "nbformat": 4,
 "nbformat_minor": 5
}
